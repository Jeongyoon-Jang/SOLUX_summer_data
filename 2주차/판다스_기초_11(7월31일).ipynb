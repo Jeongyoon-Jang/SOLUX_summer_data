{
  "nbformat": 4,
  "nbformat_minor": 0,
  "metadata": {
    "colab": {
      "name": "판다스_기초_11(7월31일)",
      "provenance": [],
      "collapsed_sections": [],
      "authorship_tag": "ABX9TyOFrdmdbs1gIq2kGAX+LI+k",
      "include_colab_link": true
    },
    "kernelspec": {
      "name": "python3",
      "display_name": "Python 3"
    }
  },
  "cells": [
    {
      "cell_type": "markdown",
      "metadata": {
        "id": "view-in-github",
        "colab_type": "text"
      },
      "source": [
        "<a href=\"https://colab.research.google.com/github/Jeongyoon-Jang/SOLUX_summer_data/blob/master/2%EC%A3%BC%EC%B0%A8/%ED%8C%90%EB%8B%A4%EC%8A%A4_%EA%B8%B0%EC%B4%88_11(7%EC%9B%9431%EC%9D%BC).ipynb\" target=\"_parent\"><img src=\"https://colab.research.google.com/assets/colab-badge.svg\" alt=\"Open In Colab\"/></a>"
      ]
    },
    {
      "cell_type": "code",
      "metadata": {
        "id": "stQUV22JDFxM",
        "colab_type": "code",
        "colab": {}
      },
      "source": [
        "import pandas as pd"
      ],
      "execution_count": 1,
      "outputs": []
    },
    {
      "cell_type": "code",
      "metadata": {
        "id": "v8Un_CarDNDY",
        "colab_type": "code",
        "colab": {
          "base_uri": "https://localhost:8080/",
          "height": 141
        },
        "outputId": "dd4b6c3d-7cfe-4f29-d50b-4d1ca5289a03"
      },
      "source": [
        "date_list = [{'yyyy-mm-dd': '2000-06-27'},\n",
        "             {'yyyy-mm-dd': '2002-09-24'},\n",
        "             {'yyyy-mm-dd': '2005-12-20'}]\n",
        "df = pd.DataFrame(date_list, columns = ['yyyy-mm-dd'])\n",
        "df"
      ],
      "execution_count": 3,
      "outputs": [
        {
          "output_type": "execute_result",
          "data": {
            "text/html": [
              "<div>\n",
              "<style scoped>\n",
              "    .dataframe tbody tr th:only-of-type {\n",
              "        vertical-align: middle;\n",
              "    }\n",
              "\n",
              "    .dataframe tbody tr th {\n",
              "        vertical-align: top;\n",
              "    }\n",
              "\n",
              "    .dataframe thead th {\n",
              "        text-align: right;\n",
              "    }\n",
              "</style>\n",
              "<table border=\"1\" class=\"dataframe\">\n",
              "  <thead>\n",
              "    <tr style=\"text-align: right;\">\n",
              "      <th></th>\n",
              "      <th>yyyy-mm-dd</th>\n",
              "    </tr>\n",
              "  </thead>\n",
              "  <tbody>\n",
              "    <tr>\n",
              "      <th>0</th>\n",
              "      <td>2000-06-27</td>\n",
              "    </tr>\n",
              "    <tr>\n",
              "      <th>1</th>\n",
              "      <td>2002-09-24</td>\n",
              "    </tr>\n",
              "    <tr>\n",
              "      <th>2</th>\n",
              "      <td>2005-12-20</td>\n",
              "    </tr>\n",
              "  </tbody>\n",
              "</table>\n",
              "</div>"
            ],
            "text/plain": [
              "   yyyy-mm-dd\n",
              "0  2000-06-27\n",
              "1  2002-09-24\n",
              "2  2005-12-20"
            ]
          },
          "metadata": {
            "tags": []
          },
          "execution_count": 3
        }
      ]
    },
    {
      "cell_type": "code",
      "metadata": {
        "id": "J8m5z1VeFiCW",
        "colab_type": "code",
        "colab": {}
      },
      "source": [
        "def extract_year(column):\n",
        "  return column.split(\"-\")[0] # 하나의 column을 받았을 때 전체값에서 \"-\"로 분류해서 list를 만들고 그의 첫번째 인자를 return한다."
      ],
      "execution_count": 4,
      "outputs": []
    },
    {
      "cell_type": "code",
      "metadata": {
        "id": "iQ_t4baKJU0F",
        "colab_type": "code",
        "colab": {}
      },
      "source": [
        "df['year'] = df['yyyy-mm-dd'].apply(extract_year) # apply함수를 이용해 column 생성"
      ],
      "execution_count": 7,
      "outputs": []
    },
    {
      "cell_type": "code",
      "metadata": {
        "id": "BQVJ1pHZK3zP",
        "colab_type": "code",
        "colab": {
          "base_uri": "https://localhost:8080/",
          "height": 141
        },
        "outputId": "59d29899-e672-448c-aeaf-73b0ea2f54aa"
      },
      "source": [
        "df"
      ],
      "execution_count": 8,
      "outputs": [
        {
          "output_type": "execute_result",
          "data": {
            "text/html": [
              "<div>\n",
              "<style scoped>\n",
              "    .dataframe tbody tr th:only-of-type {\n",
              "        vertical-align: middle;\n",
              "    }\n",
              "\n",
              "    .dataframe tbody tr th {\n",
              "        vertical-align: top;\n",
              "    }\n",
              "\n",
              "    .dataframe thead th {\n",
              "        text-align: right;\n",
              "    }\n",
              "</style>\n",
              "<table border=\"1\" class=\"dataframe\">\n",
              "  <thead>\n",
              "    <tr style=\"text-align: right;\">\n",
              "      <th></th>\n",
              "      <th>yyyy-mm-dd</th>\n",
              "      <th>year</th>\n",
              "    </tr>\n",
              "  </thead>\n",
              "  <tbody>\n",
              "    <tr>\n",
              "      <th>0</th>\n",
              "      <td>2000-06-27</td>\n",
              "      <td>2000</td>\n",
              "    </tr>\n",
              "    <tr>\n",
              "      <th>1</th>\n",
              "      <td>2002-09-24</td>\n",
              "      <td>2002</td>\n",
              "    </tr>\n",
              "    <tr>\n",
              "      <th>2</th>\n",
              "      <td>2005-12-20</td>\n",
              "      <td>2005</td>\n",
              "    </tr>\n",
              "  </tbody>\n",
              "</table>\n",
              "</div>"
            ],
            "text/plain": [
              "   yyyy-mm-dd  year\n",
              "0  2000-06-27  2000\n",
              "1  2002-09-24  2002\n",
              "2  2005-12-20  2005"
            ]
          },
          "metadata": {
            "tags": []
          },
          "execution_count": 8
        }
      ]
    },
    {
      "cell_type": "code",
      "metadata": {
        "id": "yl_oKjV8LGMe",
        "colab_type": "code",
        "colab": {}
      },
      "source": [
        "def get_age(year, current_year):\n",
        "  return current_year - int(year) # 나이 구하기"
      ],
      "execution_count": 9,
      "outputs": []
    },
    {
      "cell_type": "code",
      "metadata": {
        "id": "yvwO_-f-LTrw",
        "colab_type": "code",
        "colab": {}
      },
      "source": [
        "df['age'] = df['year'].apply(get_age, current_year=2018)"
      ],
      "execution_count": 10,
      "outputs": []
    },
    {
      "cell_type": "code",
      "metadata": {
        "id": "a2ZnsJmXLbjA",
        "colab_type": "code",
        "colab": {
          "base_uri": "https://localhost:8080/",
          "height": 141
        },
        "outputId": "0bc23b6f-ae2e-4380-c5bb-a865319b26bc"
      },
      "source": [
        "df"
      ],
      "execution_count": 11,
      "outputs": [
        {
          "output_type": "execute_result",
          "data": {
            "text/html": [
              "<div>\n",
              "<style scoped>\n",
              "    .dataframe tbody tr th:only-of-type {\n",
              "        vertical-align: middle;\n",
              "    }\n",
              "\n",
              "    .dataframe tbody tr th {\n",
              "        vertical-align: top;\n",
              "    }\n",
              "\n",
              "    .dataframe thead th {\n",
              "        text-align: right;\n",
              "    }\n",
              "</style>\n",
              "<table border=\"1\" class=\"dataframe\">\n",
              "  <thead>\n",
              "    <tr style=\"text-align: right;\">\n",
              "      <th></th>\n",
              "      <th>yyyy-mm-dd</th>\n",
              "      <th>year</th>\n",
              "      <th>age</th>\n",
              "    </tr>\n",
              "  </thead>\n",
              "  <tbody>\n",
              "    <tr>\n",
              "      <th>0</th>\n",
              "      <td>2000-06-27</td>\n",
              "      <td>2000</td>\n",
              "      <td>18</td>\n",
              "    </tr>\n",
              "    <tr>\n",
              "      <th>1</th>\n",
              "      <td>2002-09-24</td>\n",
              "      <td>2002</td>\n",
              "      <td>16</td>\n",
              "    </tr>\n",
              "    <tr>\n",
              "      <th>2</th>\n",
              "      <td>2005-12-20</td>\n",
              "      <td>2005</td>\n",
              "      <td>13</td>\n",
              "    </tr>\n",
              "  </tbody>\n",
              "</table>\n",
              "</div>"
            ],
            "text/plain": [
              "   yyyy-mm-dd  year  age\n",
              "0  2000-06-27  2000   18\n",
              "1  2002-09-24  2002   16\n",
              "2  2005-12-20  2005   13"
            ]
          },
          "metadata": {
            "tags": []
          },
          "execution_count": 11
        }
      ]
    },
    {
      "cell_type": "code",
      "metadata": {
        "id": "DYFB7isjLb_R",
        "colab_type": "code",
        "colab": {}
      },
      "source": [
        "def get_introduce(age, prefix, suffix):\n",
        "  return prefix + str(age) + suffix # multiple parameter"
      ],
      "execution_count": 12,
      "outputs": []
    },
    {
      "cell_type": "code",
      "metadata": {
        "id": "cbHwV-hxMx_H",
        "colab_type": "code",
        "colab": {}
      },
      "source": [
        "df['introduce'] = df['age'].apply(get_introduce, prefix=\"I am \", suffix = \" years old\")"
      ],
      "execution_count": 16,
      "outputs": []
    },
    {
      "cell_type": "code",
      "metadata": {
        "id": "jeKGxpMDNMDj",
        "colab_type": "code",
        "colab": {
          "base_uri": "https://localhost:8080/",
          "height": 141
        },
        "outputId": "516e72c9-dbb6-45ab-9927-9b8c3b992334"
      },
      "source": [
        "df"
      ],
      "execution_count": 17,
      "outputs": [
        {
          "output_type": "execute_result",
          "data": {
            "text/html": [
              "<div>\n",
              "<style scoped>\n",
              "    .dataframe tbody tr th:only-of-type {\n",
              "        vertical-align: middle;\n",
              "    }\n",
              "\n",
              "    .dataframe tbody tr th {\n",
              "        vertical-align: top;\n",
              "    }\n",
              "\n",
              "    .dataframe thead th {\n",
              "        text-align: right;\n",
              "    }\n",
              "</style>\n",
              "<table border=\"1\" class=\"dataframe\">\n",
              "  <thead>\n",
              "    <tr style=\"text-align: right;\">\n",
              "      <th></th>\n",
              "      <th>yyyy-mm-dd</th>\n",
              "      <th>year</th>\n",
              "      <th>age</th>\n",
              "      <th>introduce</th>\n",
              "    </tr>\n",
              "  </thead>\n",
              "  <tbody>\n",
              "    <tr>\n",
              "      <th>0</th>\n",
              "      <td>2000-06-27</td>\n",
              "      <td>2000</td>\n",
              "      <td>18</td>\n",
              "      <td>I am 18 years old</td>\n",
              "    </tr>\n",
              "    <tr>\n",
              "      <th>1</th>\n",
              "      <td>2002-09-24</td>\n",
              "      <td>2002</td>\n",
              "      <td>16</td>\n",
              "      <td>I am 16 years old</td>\n",
              "    </tr>\n",
              "    <tr>\n",
              "      <th>2</th>\n",
              "      <td>2005-12-20</td>\n",
              "      <td>2005</td>\n",
              "      <td>13</td>\n",
              "      <td>I am 13 years old</td>\n",
              "    </tr>\n",
              "  </tbody>\n",
              "</table>\n",
              "</div>"
            ],
            "text/plain": [
              "   yyyy-mm-dd  year  age          introduce\n",
              "0  2000-06-27  2000   18  I am 18 years old\n",
              "1  2002-09-24  2002   16  I am 16 years old\n",
              "2  2005-12-20  2005   13  I am 13 years old"
            ]
          },
          "metadata": {
            "tags": []
          },
          "execution_count": 17
        }
      ]
    },
    {
      "cell_type": "code",
      "metadata": {
        "id": "g8pgGlVgNVh6",
        "colab_type": "code",
        "colab": {}
      },
      "source": [
        "def get_introduce_2(row):\n",
        "  return \"I was born in \"+str(row.year)+ \" my age is \" + str(row.age) # 여러개의 columns을 apply함수로 사용가능"
      ],
      "execution_count": 18,
      "outputs": []
    },
    {
      "cell_type": "code",
      "metadata": {
        "id": "N1_uBM-fOMJs",
        "colab_type": "code",
        "colab": {}
      },
      "source": [
        "df.introduce = df.apply(get_introduce_2, axis=1) # row에 모든 column 활용 가능"
      ],
      "execution_count": 19,
      "outputs": []
    },
    {
      "cell_type": "code",
      "metadata": {
        "id": "X6R_7O-LOW-R",
        "colab_type": "code",
        "colab": {
          "base_uri": "https://localhost:8080/",
          "height": 141
        },
        "outputId": "d929e96c-931c-4ae3-f2fc-f5de2b7713e1"
      },
      "source": [
        "df"
      ],
      "execution_count": 20,
      "outputs": [
        {
          "output_type": "execute_result",
          "data": {
            "text/html": [
              "<div>\n",
              "<style scoped>\n",
              "    .dataframe tbody tr th:only-of-type {\n",
              "        vertical-align: middle;\n",
              "    }\n",
              "\n",
              "    .dataframe tbody tr th {\n",
              "        vertical-align: top;\n",
              "    }\n",
              "\n",
              "    .dataframe thead th {\n",
              "        text-align: right;\n",
              "    }\n",
              "</style>\n",
              "<table border=\"1\" class=\"dataframe\">\n",
              "  <thead>\n",
              "    <tr style=\"text-align: right;\">\n",
              "      <th></th>\n",
              "      <th>yyyy-mm-dd</th>\n",
              "      <th>year</th>\n",
              "      <th>age</th>\n",
              "      <th>introduce</th>\n",
              "    </tr>\n",
              "  </thead>\n",
              "  <tbody>\n",
              "    <tr>\n",
              "      <th>0</th>\n",
              "      <td>2000-06-27</td>\n",
              "      <td>2000</td>\n",
              "      <td>18</td>\n",
              "      <td>I was born in 2000 my age is 18</td>\n",
              "    </tr>\n",
              "    <tr>\n",
              "      <th>1</th>\n",
              "      <td>2002-09-24</td>\n",
              "      <td>2002</td>\n",
              "      <td>16</td>\n",
              "      <td>I was born in 2002 my age is 16</td>\n",
              "    </tr>\n",
              "    <tr>\n",
              "      <th>2</th>\n",
              "      <td>2005-12-20</td>\n",
              "      <td>2005</td>\n",
              "      <td>13</td>\n",
              "      <td>I was born in 2005 my age is 13</td>\n",
              "    </tr>\n",
              "  </tbody>\n",
              "</table>\n",
              "</div>"
            ],
            "text/plain": [
              "   yyyy-mm-dd  year  age                        introduce\n",
              "0  2000-06-27  2000   18  I was born in 2000 my age is 18\n",
              "1  2002-09-24  2002   16  I was born in 2002 my age is 16\n",
              "2  2005-12-20  2005   13  I was born in 2005 my age is 13"
            ]
          },
          "metadata": {
            "tags": []
          },
          "execution_count": 20
        }
      ]
    },
    {
      "cell_type": "code",
      "metadata": {
        "id": "miiR22U_OXXB",
        "colab_type": "code",
        "colab": {}
      },
      "source": [
        ""
      ],
      "execution_count": null,
      "outputs": []
    }
  ]
}