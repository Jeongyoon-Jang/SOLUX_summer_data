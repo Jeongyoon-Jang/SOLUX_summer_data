{
  "nbformat": 4,
  "nbformat_minor": 0,
  "metadata": {
    "colab": {
      "name": "캐글실습_1(8월7일)",
      "provenance": [],
      "collapsed_sections": [],
      "authorship_tag": "ABX9TyNHCHX3T1reG1MPNtIeO4wj",
      "include_colab_link": true
    },
    "kernelspec": {
      "name": "python3",
      "display_name": "Python 3"
    }
  },
  "cells": [
    {
      "cell_type": "markdown",
      "metadata": {
        "id": "view-in-github",
        "colab_type": "text"
      },
      "source": [
        "<a href=\"https://colab.research.google.com/github/Jeongyoon-Jang/SOLUX_summer_data/blob/master/3-4%EC%A3%BC%EC%B0%A8/%EC%BA%90%EA%B8%80%EC%8B%A4%EC%8A%B5_1(8%EC%9B%947%EC%9D%BC).ipynb\" target=\"_parent\"><img src=\"https://colab.research.google.com/assets/colab-badge.svg\" alt=\"Open In Colab\"/></a>"
      ]
    },
    {
      "cell_type": "code",
      "metadata": {
        "id": "w43-Q4iCH5Dk",
        "colab_type": "code",
        "colab": {}
      },
      "source": [
        "# 캐글에서는 타이타닉 해상사고, 자전거 수요 예측, 집값 예측 등을 분석할 수 있다."
      ],
      "execution_count": 1,
      "outputs": []
    },
    {
      "cell_type": "code",
      "metadata": {
        "id": "xDg_CePfIXpc",
        "colab_type": "code",
        "colab": {}
      },
      "source": [
        "# matplotlib, pandas 등을 통해 분석한다."
      ],
      "execution_count": 2,
      "outputs": []
    },
    {
      "cell_type": "code",
      "metadata": {
        "id": "uPnD2dAFIc6z",
        "colab_type": "code",
        "colab": {}
      },
      "source": [
        "# 캐글에서는 사용자 랭킹도 볼 수 있음."
      ],
      "execution_count": 3,
      "outputs": []
    },
    {
      "cell_type": "code",
      "metadata": {
        "id": "N8RBF4qkInUZ",
        "colab_type": "code",
        "colab": {}
      },
      "source": [
        ""
      ],
      "execution_count": null,
      "outputs": []
    }
  ]
}