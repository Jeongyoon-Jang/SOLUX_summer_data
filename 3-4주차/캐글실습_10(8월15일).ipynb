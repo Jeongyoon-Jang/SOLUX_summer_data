{
  "nbformat": 4,
  "nbformat_minor": 0,
  "metadata": {
    "colab": {
      "name": "캐글실습_10(8월15일)",
      "provenance": [],
      "collapsed_sections": [],
      "authorship_tag": "ABX9TyOtViooYBXLMtul6TmeAIjH",
      "include_colab_link": true
    },
    "kernelspec": {
      "name": "python3",
      "display_name": "Python 3"
    }
  },
  "cells": [
    {
      "cell_type": "markdown",
      "metadata": {
        "id": "view-in-github",
        "colab_type": "text"
      },
      "source": [
        "<a href=\"https://colab.research.google.com/github/Jeongyoon-Jang/SOLUX_summer_data/blob/master/3-4%EC%A3%BC%EC%B0%A8/%EC%BA%90%EA%B8%80%EC%8B%A4%EC%8A%B5_10(8%EC%9B%9415%EC%9D%BC).ipynb\" target=\"_parent\"><img src=\"https://colab.research.google.com/assets/colab-badge.svg\" alt=\"Open In Colab\"/></a>"
      ]
    },
    {
      "cell_type": "code",
      "metadata": {
        "id": "0M6FVaqk1Dt3",
        "colab_type": "code",
        "colab": {}
      },
      "source": [
        "def rsmle(y, y_,convertExp=True):\n",
        "  if convertExp:\n",
        "    y = np.exp(y) \n",
        "    y_ = np.exp(y_) # 지수함수\n",
        "  log1 = np.nan_to_num(np.array([np.log(v + 1) for v in y]))\n",
        "  log2 = np.nan_to_num(np.array([np.log(v + 1) for v in y_]))\n",
        "  calc = (log1 - log2) ** 2\n",
        "  return np.sqrt(np.mean(calc)) # 밑에 이 코드를 자세히 설명함"
      ],
      "execution_count": 2,
      "outputs": []
    },
    {
      "cell_type": "code",
      "metadata": {
        "id": "dyL8mLiJVEld",
        "colab_type": "code",
        "colab": {}
      },
      "source": [
        "from sklearn.metrics import make_scorer\n",
        "\n",
        "def rmsle(predicted_values, actual_values): # numpy로 배열 형태 바꿔준다.\n",
        "  predicted_values = np.array(predicted_values)\n",
        "  actual_values = np.array(actual_values)\n",
        "\n",
        "  log_predict = np.log(predicted_values + 1) # 예측값, 실제 값에 1 더하고 로그 씌어준다.\n",
        "  log_actual = np.log(actual_values + 1)\n",
        "\n",
        "  difference = log_predict - log_actual # 예측값 - 실제값 한 후 제곱\n",
        "  difference = np.square(difference) \n",
        "\n",
        "  mean_difference = difference.mean() # 평균\n",
        "\n",
        "  score = np.sqrt(mean_difference) # 루트 씌우기\n",
        "\n",
        "  return score"
      ],
      "execution_count": 3,
      "outputs": []
    },
    {
      "cell_type": "code",
      "metadata": {
        "id": "tc62KDxRXIwp",
        "colab_type": "code",
        "colab": {}
      },
      "source": [
        ""
      ],
      "execution_count": null,
      "outputs": []
    }
  ]
}