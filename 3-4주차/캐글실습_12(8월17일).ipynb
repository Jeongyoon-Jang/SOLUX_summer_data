{
  "nbformat": 4,
  "nbformat_minor": 0,
  "metadata": {
    "colab": {
      "name": "캐글실습_12(8월17일)",
      "provenance": [],
      "collapsed_sections": [],
      "mount_file_id": "1w5yZa3m-IIgyJ-a06cX6t4VrU_VzjKkQ",
      "authorship_tag": "ABX9TyM+XwvAn+RyUjQ67HeDe735",
      "include_colab_link": true
    },
    "kernelspec": {
      "name": "python3",
      "display_name": "Python 3"
    }
  },
  "cells": [
    {
      "cell_type": "markdown",
      "metadata": {
        "id": "view-in-github",
        "colab_type": "text"
      },
      "source": [
        "<a href=\"https://colab.research.google.com/github/Jeongyoon-Jang/SOLUX_summer_data/blob/master/3-4%EC%A3%BC%EC%B0%A8/%EC%BA%90%EA%B8%80%EC%8B%A4%EC%8A%B5_12(8%EC%9B%9417%EC%9D%BC).ipynb\" target=\"_parent\"><img src=\"https://colab.research.google.com/assets/colab-badge.svg\" alt=\"Open In Colab\"/></a>"
      ]
    },
    {
      "cell_type": "code",
      "metadata": {
        "id": "AZC130RQ0oTi",
        "colab_type": "code",
        "colab": {}
      },
      "source": [
        "import pandas as pd\n",
        "import numpy as np\n",
        "\n",
        "import matplotlib as mpl\n",
        "import matplotlib.pyplot as plt\n",
        "import seaborn as sns\n",
        "\n",
        "%matplotlib inline\n",
        "\n",
        "plt.style.use('ggplot')\n",
        "\n",
        "mpl.rcParams['axes.unicode_minus'] = False"
      ],
      "execution_count": 3,
      "outputs": []
    },
    {
      "cell_type": "code",
      "metadata": {
        "id": "j1PZqp2Q2h-S",
        "colab_type": "code",
        "colab": {
          "base_uri": "https://localhost:8080/",
          "height": 36
        },
        "outputId": "4bd75c11-a3f3-4c0c-af11-21f9fbee63f8"
      },
      "source": [
        "train = pd.read_csv(\"/content/drive/My Drive/Colab Notebooks/data/train.csv\", parse_dates=[\"datetime\"])\n",
        "train.shape # train 데이터 읽어오기"
      ],
      "execution_count": 4,
      "outputs": [
        {
          "output_type": "execute_result",
          "data": {
            "text/plain": [
              "(10886, 12)"
            ]
          },
          "metadata": {
            "tags": []
          },
          "execution_count": 4
        }
      ]
    },
    {
      "cell_type": "code",
      "metadata": {
        "id": "r9gi4zMZ27wB",
        "colab_type": "code",
        "colab": {
          "base_uri": "https://localhost:8080/",
          "height": 36
        },
        "outputId": "ecb4cd15-9c18-4dbf-e209-4e74a723b320"
      },
      "source": [
        "test = pd.read_csv(\"/content/drive/My Drive/Colab Notebooks/data/test.csv\", parse_dates=[\"datetime\"])\n",
        "test.shape # test 데이터 읽어오기"
      ],
      "execution_count": 5,
      "outputs": [
        {
          "output_type": "execute_result",
          "data": {
            "text/plain": [
              "(6493, 9)"
            ]
          },
          "metadata": {
            "tags": []
          },
          "execution_count": 5
        }
      ]
    },
    {
      "cell_type": "code",
      "metadata": {
        "id": "dvax8MHi4V-L",
        "colab_type": "code",
        "colab": {
          "base_uri": "https://localhost:8080/",
          "height": 36
        },
        "outputId": "ed549fde-7373-4a30-db25-2dc8e7cd7f38"
      },
      "source": [
        "train[\"year\"] = train[\"datetime\"].dt.year\n",
        "train[\"month\"] = train[\"datetime\"].dt.month\n",
        "train[\"hour\"] = train[\"datetime\"].dt.hour\n",
        "train[\"dayofweek\"] = train[\"datetime\"].dt.dayofweek\n",
        "train.shape # year, month, hour, dayofweek을 데이터프레임에 담아준다."
      ],
      "execution_count": 6,
      "outputs": [
        {
          "output_type": "execute_result",
          "data": {
            "text/plain": [
              "(10886, 16)"
            ]
          },
          "metadata": {
            "tags": []
          },
          "execution_count": 6
        }
      ]
    },
    {
      "cell_type": "code",
      "metadata": {
        "id": "w9IDQJJv-NdW",
        "colab_type": "code",
        "colab": {
          "base_uri": "https://localhost:8080/",
          "height": 36
        },
        "outputId": "50080b0b-1cbe-4923-c068-870096013b56"
      },
      "source": [
        "test[\"year\"] = test[\"datetime\"].dt.year\n",
        "test[\"month\"] = test[\"datetime\"].dt.month\n",
        "test[\"hour\"] = test[\"datetime\"].dt.hour\n",
        "test[\"dayofweek\"] = test[\"datetime\"].dt.dayofweek\n",
        "test.shape"
      ],
      "execution_count": 7,
      "outputs": [
        {
          "output_type": "execute_result",
          "data": {
            "text/plain": [
              "(6493, 13)"
            ]
          },
          "metadata": {
            "tags": []
          },
          "execution_count": 7
        }
      ]
    },
    {
      "cell_type": "code",
      "metadata": {
        "id": "BcG5Z43E-0pX",
        "colab_type": "code",
        "colab": {}
      },
      "source": [
        "# 연속형 feature와 범주형 feature\n",
        "# 범주형 feature의 type을 category로 변경해준다.\n",
        "categorical_feature_names = [\"season\", \"holiday\", \"workingday\", \"weather\",\n",
        "                             \"dayofweek\", \"month\", \"year\", \"hour\"]"
      ],
      "execution_count": 8,
      "outputs": []
    },
    {
      "cell_type": "code",
      "metadata": {
        "id": "wiQwc5pLAA0b",
        "colab_type": "code",
        "colab": {}
      },
      "source": [
        "for var in categorical_feature_names:\n",
        "  train[var] = train[var].astype(\"category\")\n",
        "  test[var] = test[var].astype(\"category\")"
      ],
      "execution_count": 9,
      "outputs": []
    },
    {
      "cell_type": "code",
      "metadata": {
        "id": "ESkPuNm9C9eB",
        "colab_type": "code",
        "colab": {
          "base_uri": "https://localhost:8080/",
          "height": 204
        },
        "outputId": "5d42b943-a3d2-469b-bdea-afeba8a0462d"
      },
      "source": [
        "feature_names = [\"season\", \"weather\", \"temp\", \"atemp\", \"humidity\",\n",
        "                 \"year\", \"hour\", \"dayofweek\", \"holiday\", \"workingday\"]\n",
        "feature_names # feature을 지정해줌"
      ],
      "execution_count": 10,
      "outputs": [
        {
          "output_type": "execute_result",
          "data": {
            "text/plain": [
              "['season',\n",
              " 'weather',\n",
              " 'temp',\n",
              " 'atemp',\n",
              " 'humidity',\n",
              " 'year',\n",
              " 'hour',\n",
              " 'dayofweek',\n",
              " 'holiday',\n",
              " 'workingday']"
            ]
          },
          "metadata": {
            "tags": []
          },
          "execution_count": 10
        }
      ]
    },
    {
      "cell_type": "code",
      "metadata": {
        "id": "Wa6HdaY0DLgq",
        "colab_type": "code",
        "colab": {
          "base_uri": "https://localhost:8080/",
          "height": 221
        },
        "outputId": "f7ff83c3-cf53-40aa-cba6-65944f578a91"
      },
      "source": [
        "X_train = train[feature_names]\n",
        "\n",
        "print(X_train.shape)\n",
        "X_train.head() # feature들을 넣어 새로운 데이터프레임인 X_train을 만들어준다"
      ],
      "execution_count": 11,
      "outputs": [
        {
          "output_type": "stream",
          "text": [
            "(10886, 10)\n"
          ],
          "name": "stdout"
        },
        {
          "output_type": "execute_result",
          "data": {
            "text/html": [
              "<div>\n",
              "<style scoped>\n",
              "    .dataframe tbody tr th:only-of-type {\n",
              "        vertical-align: middle;\n",
              "    }\n",
              "\n",
              "    .dataframe tbody tr th {\n",
              "        vertical-align: top;\n",
              "    }\n",
              "\n",
              "    .dataframe thead th {\n",
              "        text-align: right;\n",
              "    }\n",
              "</style>\n",
              "<table border=\"1\" class=\"dataframe\">\n",
              "  <thead>\n",
              "    <tr style=\"text-align: right;\">\n",
              "      <th></th>\n",
              "      <th>season</th>\n",
              "      <th>weather</th>\n",
              "      <th>temp</th>\n",
              "      <th>atemp</th>\n",
              "      <th>humidity</th>\n",
              "      <th>year</th>\n",
              "      <th>hour</th>\n",
              "      <th>dayofweek</th>\n",
              "      <th>holiday</th>\n",
              "      <th>workingday</th>\n",
              "    </tr>\n",
              "  </thead>\n",
              "  <tbody>\n",
              "    <tr>\n",
              "      <th>0</th>\n",
              "      <td>1</td>\n",
              "      <td>1</td>\n",
              "      <td>9.84</td>\n",
              "      <td>14.395</td>\n",
              "      <td>81</td>\n",
              "      <td>2011</td>\n",
              "      <td>0</td>\n",
              "      <td>5</td>\n",
              "      <td>0</td>\n",
              "      <td>0</td>\n",
              "    </tr>\n",
              "    <tr>\n",
              "      <th>1</th>\n",
              "      <td>1</td>\n",
              "      <td>1</td>\n",
              "      <td>9.02</td>\n",
              "      <td>13.635</td>\n",
              "      <td>80</td>\n",
              "      <td>2011</td>\n",
              "      <td>1</td>\n",
              "      <td>5</td>\n",
              "      <td>0</td>\n",
              "      <td>0</td>\n",
              "    </tr>\n",
              "    <tr>\n",
              "      <th>2</th>\n",
              "      <td>1</td>\n",
              "      <td>1</td>\n",
              "      <td>9.02</td>\n",
              "      <td>13.635</td>\n",
              "      <td>80</td>\n",
              "      <td>2011</td>\n",
              "      <td>2</td>\n",
              "      <td>5</td>\n",
              "      <td>0</td>\n",
              "      <td>0</td>\n",
              "    </tr>\n",
              "    <tr>\n",
              "      <th>3</th>\n",
              "      <td>1</td>\n",
              "      <td>1</td>\n",
              "      <td>9.84</td>\n",
              "      <td>14.395</td>\n",
              "      <td>75</td>\n",
              "      <td>2011</td>\n",
              "      <td>3</td>\n",
              "      <td>5</td>\n",
              "      <td>0</td>\n",
              "      <td>0</td>\n",
              "    </tr>\n",
              "    <tr>\n",
              "      <th>4</th>\n",
              "      <td>1</td>\n",
              "      <td>1</td>\n",
              "      <td>9.84</td>\n",
              "      <td>14.395</td>\n",
              "      <td>75</td>\n",
              "      <td>2011</td>\n",
              "      <td>4</td>\n",
              "      <td>5</td>\n",
              "      <td>0</td>\n",
              "      <td>0</td>\n",
              "    </tr>\n",
              "  </tbody>\n",
              "</table>\n",
              "</div>"
            ],
            "text/plain": [
              "  season weather  temp   atemp  ...  hour dayofweek holiday workingday\n",
              "0      1       1  9.84  14.395  ...     0         5       0          0\n",
              "1      1       1  9.02  13.635  ...     1         5       0          0\n",
              "2      1       1  9.02  13.635  ...     2         5       0          0\n",
              "3      1       1  9.84  14.395  ...     3         5       0          0\n",
              "4      1       1  9.84  14.395  ...     4         5       0          0\n",
              "\n",
              "[5 rows x 10 columns]"
            ]
          },
          "metadata": {
            "tags": []
          },
          "execution_count": 11
        }
      ]
    },
    {
      "cell_type": "code",
      "metadata": {
        "id": "k2e01ZzoDeQZ",
        "colab_type": "code",
        "colab": {
          "base_uri": "https://localhost:8080/",
          "height": 221
        },
        "outputId": "c8aa9be9-3be8-494f-b6a3-968e1df5bae9"
      },
      "source": [
        "X_test = test[feature_names]\n",
        "\n",
        "print(X_test.shape)\n",
        "X_test.head() # feature들을 넣어 새로운 데이터프레임인 X_test를 만들어준다,"
      ],
      "execution_count": 12,
      "outputs": [
        {
          "output_type": "stream",
          "text": [
            "(6493, 10)\n"
          ],
          "name": "stdout"
        },
        {
          "output_type": "execute_result",
          "data": {
            "text/html": [
              "<div>\n",
              "<style scoped>\n",
              "    .dataframe tbody tr th:only-of-type {\n",
              "        vertical-align: middle;\n",
              "    }\n",
              "\n",
              "    .dataframe tbody tr th {\n",
              "        vertical-align: top;\n",
              "    }\n",
              "\n",
              "    .dataframe thead th {\n",
              "        text-align: right;\n",
              "    }\n",
              "</style>\n",
              "<table border=\"1\" class=\"dataframe\">\n",
              "  <thead>\n",
              "    <tr style=\"text-align: right;\">\n",
              "      <th></th>\n",
              "      <th>season</th>\n",
              "      <th>weather</th>\n",
              "      <th>temp</th>\n",
              "      <th>atemp</th>\n",
              "      <th>humidity</th>\n",
              "      <th>year</th>\n",
              "      <th>hour</th>\n",
              "      <th>dayofweek</th>\n",
              "      <th>holiday</th>\n",
              "      <th>workingday</th>\n",
              "    </tr>\n",
              "  </thead>\n",
              "  <tbody>\n",
              "    <tr>\n",
              "      <th>0</th>\n",
              "      <td>1</td>\n",
              "      <td>1</td>\n",
              "      <td>10.66</td>\n",
              "      <td>11.365</td>\n",
              "      <td>56</td>\n",
              "      <td>2011</td>\n",
              "      <td>0</td>\n",
              "      <td>3</td>\n",
              "      <td>0</td>\n",
              "      <td>1</td>\n",
              "    </tr>\n",
              "    <tr>\n",
              "      <th>1</th>\n",
              "      <td>1</td>\n",
              "      <td>1</td>\n",
              "      <td>10.66</td>\n",
              "      <td>13.635</td>\n",
              "      <td>56</td>\n",
              "      <td>2011</td>\n",
              "      <td>1</td>\n",
              "      <td>3</td>\n",
              "      <td>0</td>\n",
              "      <td>1</td>\n",
              "    </tr>\n",
              "    <tr>\n",
              "      <th>2</th>\n",
              "      <td>1</td>\n",
              "      <td>1</td>\n",
              "      <td>10.66</td>\n",
              "      <td>13.635</td>\n",
              "      <td>56</td>\n",
              "      <td>2011</td>\n",
              "      <td>2</td>\n",
              "      <td>3</td>\n",
              "      <td>0</td>\n",
              "      <td>1</td>\n",
              "    </tr>\n",
              "    <tr>\n",
              "      <th>3</th>\n",
              "      <td>1</td>\n",
              "      <td>1</td>\n",
              "      <td>10.66</td>\n",
              "      <td>12.880</td>\n",
              "      <td>56</td>\n",
              "      <td>2011</td>\n",
              "      <td>3</td>\n",
              "      <td>3</td>\n",
              "      <td>0</td>\n",
              "      <td>1</td>\n",
              "    </tr>\n",
              "    <tr>\n",
              "      <th>4</th>\n",
              "      <td>1</td>\n",
              "      <td>1</td>\n",
              "      <td>10.66</td>\n",
              "      <td>12.880</td>\n",
              "      <td>56</td>\n",
              "      <td>2011</td>\n",
              "      <td>4</td>\n",
              "      <td>3</td>\n",
              "      <td>0</td>\n",
              "      <td>1</td>\n",
              "    </tr>\n",
              "  </tbody>\n",
              "</table>\n",
              "</div>"
            ],
            "text/plain": [
              "  season weather   temp   atemp  ...  hour dayofweek holiday workingday\n",
              "0      1       1  10.66  11.365  ...     0         3       0          1\n",
              "1      1       1  10.66  13.635  ...     1         3       0          1\n",
              "2      1       1  10.66  13.635  ...     2         3       0          1\n",
              "3      1       1  10.66  12.880  ...     3         3       0          1\n",
              "4      1       1  10.66  12.880  ...     4         3       0          1\n",
              "\n",
              "[5 rows x 10 columns]"
            ]
          },
          "metadata": {
            "tags": []
          },
          "execution_count": 12
        }
      ]
    },
    {
      "cell_type": "code",
      "metadata": {
        "id": "qcNzejHJDs30",
        "colab_type": "code",
        "colab": {
          "base_uri": "https://localhost:8080/",
          "height": 148
        },
        "outputId": "ec5d12ff-bdd7-4f59-f984-8c299128e948"
      },
      "source": [
        "label_name = \"count\"\n",
        "\n",
        "y_train = train[label_name]\n",
        "\n",
        "print(y_train.shape)\n",
        "y_train.head() # label 데이터도 가져와서 y_train에 넣어줌"
      ],
      "execution_count": 13,
      "outputs": [
        {
          "output_type": "stream",
          "text": [
            "(10886,)\n"
          ],
          "name": "stdout"
        },
        {
          "output_type": "execute_result",
          "data": {
            "text/plain": [
              "0    16\n",
              "1    40\n",
              "2    32\n",
              "3    13\n",
              "4     1\n",
              "Name: count, dtype: int64"
            ]
          },
          "metadata": {
            "tags": []
          },
          "execution_count": 13
        }
      ]
    },
    {
      "cell_type": "code",
      "metadata": {
        "id": "omSti4mmD8Nz",
        "colab_type": "code",
        "colab": {}
      },
      "source": [
        "from sklearn.metrics import make_scorer\n",
        "\n",
        "def rmsle(predicted_values, actual_values, convertExp=True):\n",
        "\n",
        "  if convertExp:\n",
        "    predicted_values = np.exp(predicted_values),\n",
        "    actual_values = np.exp(actual_values)\n",
        "\n",
        "  predicted_values = np.array(predicted_values) # numpy로 배열 형태 바꿔줌\n",
        "  actual_values = np.array(actual_values)\n",
        "\n",
        "  log_predict = np.log(predicted_values + 1) # 예측값과 실제값에 1을 더하고 로그 씌워줌 \n",
        "  log_actual = np.log(actual_values + 1)\n",
        "\n",
        "  difference = log_predict - log_actual # 예측값-실제값 한 다음에 제곱\n",
        "  difference = np.square(difference)\n",
        "\n",
        "  mean_difference = difference.mean() # 평균\n",
        "\n",
        "  score = np.sqrt(mean_difference) # 다시 루트를 씌운다.\n",
        "\n",
        "  return score"
      ],
      "execution_count": 14,
      "outputs": []
    },
    {
      "cell_type": "code",
      "metadata": {
        "id": "QVQ7aDTkJuE5",
        "colab_type": "code",
        "colab": {}
      },
      "source": [
        "# 선형회귀 모델"
      ],
      "execution_count": 15,
      "outputs": []
    },
    {
      "cell_type": "code",
      "metadata": {
        "id": "uFIDzUEbJxvB",
        "colab_type": "code",
        "colab": {
          "base_uri": "https://localhost:8080/",
          "height": 36
        },
        "outputId": "7eee9136-3139-4c32-c313-ef5ace523319"
      },
      "source": [
        "from sklearn.linear_model import LinearRegression, Ridge, Lasso\n",
        "from sklearn.model_selection import GridSearchCV\n",
        "from sklearn import metrics\n",
        "import warnings\n",
        "pd.options.mode.chained_assignment = None\n",
        "warnings.filterwarnings(\"ignore\", category=DeprecationWarning)\n",
        "\n",
        "# 선형회귀 모델을 초기화\n",
        "lModel = LinearRegression()\n",
        "\n",
        "# 모델을 학습시킨다.\n",
        "y_train_log = np.log1p(y_train)\n",
        "lModel.fit(X_train, y_train_log)\n",
        "\n",
        "# 예측하고 정확도를 평가한다.\n",
        "preds = lModel.predict(X_train)\n",
        "print (\"RMSLE Value For Linear Regression: \",\n",
        "       rmsle(np.exp(y_train_log),np.exp(preds), False))"
      ],
      "execution_count": 16,
      "outputs": [
        {
          "output_type": "stream",
          "text": [
            "RMSLE Value For Linear Regression:  0.9803697923313522\n"
          ],
          "name": "stdout"
        }
      ]
    },
    {
      "cell_type": "code",
      "metadata": {
        "id": "JU4IqWZ7PJ2-",
        "colab_type": "code",
        "colab": {}
      },
      "source": [
        "# Ridge"
      ],
      "execution_count": 17,
      "outputs": []
    },
    {
      "cell_type": "code",
      "metadata": {
        "id": "M7OTHJInQdZL",
        "colab_type": "code",
        "colab": {
          "base_uri": "https://localhost:8080/",
          "height": 360
        },
        "outputId": "c0818ed8-3fb0-4fa9-bd0f-8e2c0ba012a1"
      },
      "source": [
        "ridge_m_ = Ridge()\n",
        "ridge_params_ = { 'max_iter':[3000],'alpha':[0.01, 0.1, 1, 2, 3, 4, 10, 30,100,200,300,400,800,900,1000]} # max_iter은 반복실행하는 최대 횟수\n",
        "rmsle_scorer = metrics.make_scorer(rmsle, greater_is_better=False)\n",
        "grid_ridge_m = GridSearchCV( ridge_m_,\n",
        "                          ridge_params_,\n",
        "                          scoring = rmsle_scorer,\n",
        "                          cv=5)\n",
        "\n",
        "y_train_log = np.log1p(y_train) # 1을 더하고 로그 씌운 값\n",
        "grid_ridge_m.fit( X_train, y_train_log )\n",
        "preds = grid_ridge_m.predict(X_train)\n",
        "print (grid_ridge_m.best_params_)\n",
        "print (\"RMSLE Value For Ridge Regression: \", rmsle(np.exp(y_train_log),np.exp(preds), False))\n",
        "\n",
        "fig,ax= plt.subplots() # 학습시킨 값을 그래프로 시각화\n",
        "fig.set_size_inches(12,5)\n",
        "df = pd.DataFrame(grid_ridge_m.cv_results_)\n",
        "df[\"alpha\"] = df[\"params\"].apply(lambda x:x[\"alpha\"])\n",
        "df[\"rmsle\"] = df[\"mean_test_score\"].apply(lambda x:-x)\n",
        "\n",
        "plt.xticks(rotation=30, ha='right')\n",
        "sns.pointplot(data=df,x=\"alpha\",y=\"rmsle\",ax=ax)"
      ],
      "execution_count": 19,
      "outputs": [
        {
          "output_type": "stream",
          "text": [
            "{'alpha': 0.01, 'max_iter': 3000}\n",
            "RMSLE Value For Ridge Regression:  0.9803697902780834\n"
          ],
          "name": "stdout"
        },
        {
          "output_type": "execute_result",
          "data": {
            "text/plain": [
              "<matplotlib.axes._subplots.AxesSubplot at 0x7ff02bf6a470>"
            ]
          },
          "metadata": {
            "tags": []
          },
          "execution_count": 19
        },
        {
          "output_type": "display_data",
          "data": {
            "image/png": "[encoded data removed]",
            "text/plain": [
              "<Figure size 864x360 with 1 Axes>"
            ]
          },
          "metadata": {
            "tags": []
          }
        }
      ]
    },
    {
      "cell_type": "code",
      "metadata": {
        "id": "_v7e_E0sYmcV",
        "colab_type": "code",
        "colab": {}
      },
      "source": [
        "# Lasso - 선형회귀의 규제를 적용하는 대안"
      ],
      "execution_count": 20,
      "outputs": []
    },
    {
      "cell_type": "code",
      "metadata": {
        "id": "AOevft6sskrS",
        "colab_type": "code",
        "colab": {
          "base_uri": "https://localhost:8080/",
          "height": 404
        },
        "outputId": "43a16f56-4f10-46ac-ffab-87155578feeb"
      },
      "source": [
        "lasso_m_ = Lasso()\n",
        "\n",
        "alpha  = 1/np.array([0.1, 1, 2, 3, 4, 10, 30,100,200,300,400,800,900,1000])\n",
        "lasso_params_ = { 'max_iter':[3000],'alpha':alpha} # max_iter은 반복 실행하는 최대 횟수\n",
        "\n",
        "grid_lasso_m = GridSearchCV( lasso_m_,lasso_params_,scoring = rmsle_scorer,cv=5)\n",
        "y_train_log = np.log1p(y_train)\n",
        "grid_lasso_m.fit( X_train , y_train_log )\n",
        "preds = grid_lasso_m.predict(X_train)\n",
        "print (grid_lasso_m.best_params_)\n",
        "print (\"RMSLE Value For Lasso Regression: \",rmsle(np.exp(y_train_log),np.exp(preds),False))\n",
        "\n",
        "fig,ax= plt.subplots() \n",
        "fig.set_size_inches(12,5)\n",
        "df = pd.DataFrame(grid_lasso_m.cv_results_)\n",
        "df[\"alpha\"] = df[\"params\"].apply(lambda x:x[\"alpha\"])\n",
        "df[\"rmsle\"] = df[\"mean_test_score\"].apply(lambda x:-x)\n",
        "\n",
        "plt.xticks(rotation=30, ha='right')\n",
        "sns.pointplot(data=df,x=\"alpha\",y=\"rmsle\",ax=ax) # 최적의 alpha 값은 0.00125"
      ],
      "execution_count": 23,
      "outputs": [
        {
          "output_type": "stream",
          "text": [
            "{'alpha': 0.00125, 'max_iter': 3000}\n",
            "RMSLE Value For Lasso Regression:  0.9803727821457648\n"
          ],
          "name": "stdout"
        },
        {
          "output_type": "execute_result",
          "data": {
            "text/plain": [
              "<matplotlib.axes._subplots.AxesSubplot at 0x7ff021967048>"
            ]
          },
          "metadata": {
            "tags": []
          },
          "execution_count": 23
        },
        {
          "output_type": "display_data",
          "data": {
            "image/png": "[encoded data removed]",
            "text/plain": [
              "<Figure size 864x360 with 1 Axes>"
            ]
          },
          "metadata": {
            "tags": []
          }
        }
      ]
    },
    {
      "cell_type": "code",
      "metadata": {
        "id": "Hcg6_dnXwcHR",
        "colab_type": "code",
        "colab": {}
      },
      "source": [
        "# 앙상블모델 - 랜덤포레스트"
      ],
      "execution_count": 24,
      "outputs": []
    },
    {
      "cell_type": "code",
      "metadata": {
        "id": "71KPvCv4xV3s",
        "colab_type": "code",
        "colab": {
          "base_uri": "https://localhost:8080/",
          "height": 36
        },
        "outputId": "ea0478ad-1df3-4e4c-c196-5e90fc14e7ac"
      },
      "source": [
        "from sklearn.ensemble import RandomForestRegressor\n",
        "rfModel = RandomForestRegressor(n_estimators=100)\n",
        "\n",
        "y_train_log = np.log1p(y_train)\n",
        "rfModel.fit(X_train, y_train_log)\n",
        "\n",
        "preds = rfModel.predict(X_train)\n",
        "score = rmsle(np.exp(y_train_log),np.exp(preds),False)\n",
        "print (\"RMSLE Value For Random Forest: \",score)"
      ],
      "execution_count": 33,
      "outputs": [
        {
          "output_type": "stream",
          "text": [
            "RMSLE Value For Random Forest:  0.10737358103772397\n"
          ],
          "name": "stdout"
        }
      ]
    },
    {
      "cell_type": "code",
      "metadata": {
        "id": "hASxYKM1xzTU",
        "colab_type": "code",
        "colab": {}
      },
      "source": [
        "# 앙상블모델 - 그라디언트 부스트: 여러개의 결정트리를 묶어 강력한 모델을 만드는 또 다른 앙상블 기법"
      ],
      "execution_count": 34,
      "outputs": []
    },
    {
      "cell_type": "code",
      "metadata": {
        "id": "egFwW2t8x6SM",
        "colab_type": "code",
        "colab": {
          "base_uri": "https://localhost:8080/",
          "height": 36
        },
        "outputId": "5783b7e6-9b83-46e4-a451-8905e1f806c1"
      },
      "source": [
        "from sklearn.ensemble import GradientBoostingRegressor\n",
        "gbm = GradientBoostingRegressor(n_estimators=4000, alpha=0.01);\n",
        "\n",
        "y_train_log = np.log1p(y_train)\n",
        "gbm.fit(X_train, y_train_log)\n",
        "\n",
        "preds = gbm.predict(X_train)\n",
        "score = rmsle(np.exp(y_train_log),np.exp(preds),False)\n",
        "print (\"RMSLE Value For Gradient Boost: \", score) # GradientBoostingRegressor으로 학습시킴"
      ],
      "execution_count": 35,
      "outputs": [
        {
          "output_type": "stream",
          "text": [
            "RMSLE Value For Gradient Boost:  0.21357403727249366\n"
          ],
          "name": "stdout"
        }
      ]
    },
    {
      "cell_type": "code",
      "metadata": {
        "id": "QSz1VVnwy6m1",
        "colab_type": "code",
        "colab": {
          "base_uri": "https://localhost:8080/",
          "height": 356
        },
        "outputId": "40b90abb-caa2-4ed9-d7b4-1acc15269898"
      },
      "source": [
        "predsTest = gbm.predict(X_test)\n",
        "fig,(ax1,ax2)= plt.subplots(ncols=2)\n",
        "fig.set_size_inches(12,5)\n",
        "sns.distplot(y_train,ax=ax1,bins=50)\n",
        "sns.distplot(np.exp(predsTest),ax=ax2,bins=50) # distplot형식으로 그려줌"
      ],
      "execution_count": 41,
      "outputs": [
        {
          "output_type": "execute_result",
          "data": {
            "text/plain": [
              "<matplotlib.axes._subplots.AxesSubplot at 0x7ff01f271908>"
            ]
          },
          "metadata": {
            "tags": []
          },
          "execution_count": 41
        },
        {
          "output_type": "display_data",
          "data": {
            "image/png": "[encoded data removed]",
            "text/plain": [
              "<Figure size 864x360 with 2 Axes>"
            ]
          },
          "metadata": {
            "tags": []
          }
        }
      ]
    },
    {
      "cell_type": "code",
      "metadata": {
        "id": "5DTnKKHO545o",
        "colab_type": "code",
        "colab": {}
      },
      "source": [
        "# submit"
      ],
      "execution_count": 42,
      "outputs": []
    },
    {
      "cell_type": "code",
      "metadata": {
        "id": "5FPIppT05_wm",
        "colab_type": "code",
        "colab": {
          "base_uri": "https://localhost:8080/",
          "height": 221
        },
        "outputId": "b64b5216-55f5-457e-ab63-47357cd8e82a"
      },
      "source": [
        "submission = pd.read_csv(\"/content/drive/My Drive/Colab Notebooks/data/sampleSubmission.csv\")\n",
        "submission\n",
        "\n",
        "submission[\"count\"] = np.exp(predsTest)\n",
        "\n",
        "print(submission.shape)\n",
        "submission.head() # 캐글에 제출"
      ],
      "execution_count": 43,
      "outputs": [
        {
          "output_type": "stream",
          "text": [
            "(6493, 2)\n"
          ],
          "name": "stdout"
        },
        {
          "output_type": "execute_result",
          "data": {
            "text/html": [
              "<div>\n",
              "<style scoped>\n",
              "    .dataframe tbody tr th:only-of-type {\n",
              "        vertical-align: middle;\n",
              "    }\n",
              "\n",
              "    .dataframe tbody tr th {\n",
              "        vertical-align: top;\n",
              "    }\n",
              "\n",
              "    .dataframe thead th {\n",
              "        text-align: right;\n",
              "    }\n",
              "</style>\n",
              "<table border=\"1\" class=\"dataframe\">\n",
              "  <thead>\n",
              "    <tr style=\"text-align: right;\">\n",
              "      <th></th>\n",
              "      <th>datetime</th>\n",
              "      <th>count</th>\n",
              "    </tr>\n",
              "  </thead>\n",
              "  <tbody>\n",
              "    <tr>\n",
              "      <th>0</th>\n",
              "      <td>2011-01-20 00:00:00</td>\n",
              "      <td>11.227543</td>\n",
              "    </tr>\n",
              "    <tr>\n",
              "      <th>1</th>\n",
              "      <td>2011-01-20 01:00:00</td>\n",
              "      <td>6.296610</td>\n",
              "    </tr>\n",
              "    <tr>\n",
              "      <th>2</th>\n",
              "      <td>2011-01-20 02:00:00</td>\n",
              "      <td>4.259238</td>\n",
              "    </tr>\n",
              "    <tr>\n",
              "      <th>3</th>\n",
              "      <td>2011-01-20 03:00:00</td>\n",
              "      <td>2.666615</td>\n",
              "    </tr>\n",
              "    <tr>\n",
              "      <th>4</th>\n",
              "      <td>2011-01-20 04:00:00</td>\n",
              "      <td>2.295918</td>\n",
              "    </tr>\n",
              "  </tbody>\n",
              "</table>\n",
              "</div>"
            ],
            "text/plain": [
              "              datetime      count\n",
              "0  2011-01-20 00:00:00  11.227543\n",
              "1  2011-01-20 01:00:00   6.296610\n",
              "2  2011-01-20 02:00:00   4.259238\n",
              "3  2011-01-20 03:00:00   2.666615\n",
              "4  2011-01-20 04:00:00   2.295918"
            ]
          },
          "metadata": {
            "tags": []
          },
          "execution_count": 43
        }
      ]
    },
    {
      "cell_type": "code",
      "metadata": {
        "id": "I2xHFTB76Rlh",
        "colab_type": "code",
        "colab": {}
      },
      "source": [
        "submission.to_csv(\"/content/drive/My Drive/Colab Notebooks/data/Score_{0:.5f}_submission.csv\".format(score), index=False)"
      ],
      "execution_count": 44,
      "outputs": []
    },
    {
      "cell_type": "code",
      "metadata": {
        "id": "okhRye8I6lHM",
        "colab_type": "code",
        "colab": {
          "base_uri": "https://localhost:8080/",
          "height": 36
        },
        "outputId": "0e1dc267-f29a-4bae-a82d-dafd839bff36"
      },
      "source": [
        "207/3242 # 랜덤포레스트"
      ],
      "execution_count": 40,
      "outputs": [
        {
          "output_type": "execute_result",
          "data": {
            "text/plain": [
              "0.06384947563232572"
            ]
          },
          "metadata": {
            "tags": []
          },
          "execution_count": 40
        }
      ]
    },
    {
      "cell_type": "code",
      "metadata": {
        "id": "qeT__qx88Sjd",
        "colab_type": "code",
        "colab": {
          "base_uri": "https://localhost:8080/",
          "height": 36
        },
        "outputId": "74efbaad-2fb6-4c3c-89ba-0b12e9c92340"
      },
      "source": [
        "144/3242 # GradientBoost"
      ],
      "execution_count": 45,
      "outputs": [
        {
          "output_type": "execute_result",
          "data": {
            "text/plain": [
              "0.04441702652683529"
            ]
          },
          "metadata": {
            "tags": []
          },
          "execution_count": 45
        }
      ]
    },
    {
      "cell_type": "code",
      "metadata": {
        "id": "G4BV0zMa9bRy",
        "colab_type": "code",
        "colab": {}
      },
      "source": [
        ""
      ],
      "execution_count": null,
      "outputs": []
    }
  ]
}