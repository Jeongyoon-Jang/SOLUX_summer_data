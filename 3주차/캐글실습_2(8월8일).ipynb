{
  "nbformat": 4,
  "nbformat_minor": 0,
  "metadata": {
    "colab": {
      "name": "캐글실습_2(8월8일)",
      "provenance": [],
      "collapsed_sections": [],
      "authorship_tag": "ABX9TyP+0PY7DWjAIIhibFM6o15F",
      "include_colab_link": true
    },
    "kernelspec": {
      "name": "python3",
      "display_name": "Python 3"
    }
  },
  "cells": [
    {
      "cell_type": "markdown",
      "metadata": {
        "id": "view-in-github",
        "colab_type": "text"
      },
      "source": [
        "<a href=\"https://colab.research.google.com/github/Jeongyoon-Jang/SOLUX_summer_data/blob/master/3%EC%A3%BC%EC%B0%A8/%EC%BA%90%EA%B8%80%EC%8B%A4%EC%8A%B5_2(8%EC%9B%948%EC%9D%BC).ipynb\" target=\"_parent\"><img src=\"https://colab.research.google.com/assets/colab-badge.svg\" alt=\"Open In Colab\"/></a>"
      ]
    },
    {
      "cell_type": "code",
      "metadata": {
        "id": "zACqeXicjGST",
        "colab_type": "code",
        "colab": {
          "base_uri": "https://localhost:8080/",
          "height": 747
        },
        "outputId": "c3321957-fa70-49da-93fe-336056b62bd5"
      },
      "source": [
        "!sudo apt-get install -y fonts-nanum\n",
        "!sudo fc-cache -fv\n",
        "!rm ~/.cache/matplotlib -r"
      ],
      "execution_count": 2,
      "outputs": [
        {
          "output_type": "stream",
          "text": [
            "Reading package lists... Done\n",
            "Building dependency tree       \n",
            "Reading state information... Done\n",
            "The following package was automatically installed and is no longer required:\n",
            "  libnvidia-common-440\n",
            "Use 'sudo apt autoremove' to remove it.\n",
            "The following NEW packages will be installed:\n",
            "  fonts-nanum\n",
            "0 upgraded, 1 newly installed, 0 to remove and 35 not upgraded.\n",
            "Need to get 9,604 kB of archives.\n",
            "After this operation, 29.5 MB of additional disk space will be used.\n",
            "Get:1 http://archive.ubuntu.com/ubuntu bionic/universe amd64 fonts-nanum all 20170925-1 [9,604 kB]\n",
            "Fetched 9,604 kB in 3s (3,336 kB/s)\n",
            "debconf: unable to initialize frontend: Dialog\n",
            "debconf: (No usable dialog-like program is installed, so the dialog based frontend cannot be used. at /usr/share/perl5/Debconf/FrontEnd/Dialog.pm line 76, <> line 1.)\n",
            "debconf: falling back to frontend: Readline\n",
            "debconf: unable to initialize frontend: Readline\n",
            "debconf: (This frontend requires a controlling tty.)\n",
            "debconf: falling back to frontend: Teletype\n",
            "dpkg-preconfigure: unable to re-open stdin: \n",
            "Selecting previously unselected package fonts-nanum.\n",
            "(Reading database ... 144487 files and directories currently installed.)\n",
            "Preparing to unpack .../fonts-nanum_20170925-1_all.deb ...\n",
            "Unpacking fonts-nanum (20170925-1) ...\n",
            "Setting up fonts-nanum (20170925-1) ...\n",
            "Processing triggers for fontconfig (2.12.6-0ubuntu2) ...\n",
            "/usr/share/fonts: caching, new cache contents: 0 fonts, 1 dirs\n",
            "/usr/share/fonts/truetype: caching, new cache contents: 0 fonts, 3 dirs\n",
            "/usr/share/fonts/truetype/humor-sans: caching, new cache contents: 1 fonts, 0 dirs\n",
            "/usr/share/fonts/truetype/liberation: caching, new cache contents: 16 fonts, 0 dirs\n",
            "/usr/share/fonts/truetype/nanum: caching, new cache contents: 10 fonts, 0 dirs\n",
            "/usr/local/share/fonts: caching, new cache contents: 0 fonts, 0 dirs\n",
            "/root/.local/share/fonts: skipping, no such directory\n",
            "/root/.fonts: skipping, no such directory\n",
            "/var/cache/fontconfig: cleaning cache directory\n",
            "/root/.cache/fontconfig: not cleaning non-existent cache directory\n",
            "/root/.fontconfig: not cleaning non-existent cache directory\n",
            "fc-cache: succeeded\n"
          ],
          "name": "stdout"
        }
      ]
    },
    {
      "cell_type": "code",
      "metadata": {
        "id": "-Tjjh82B8Dh7",
        "colab_type": "code",
        "colab": {}
      },
      "source": [
        "import matplotlib.pyplot as plt\n",
        "\n",
        "plt.rc('font', family='NanumBarunGothic')"
      ],
      "execution_count": 1,
      "outputs": []
    },
    {
      "cell_type": "code",
      "metadata": {
        "id": "b5P-OPZtdeGK",
        "colab_type": "code",
        "colab": {}
      },
      "source": [
        "%matplotlib inline\n",
        "\n",
        "import matplotlib as mpl\n",
        "import matplotlib.pyplot as plt\n",
        "import matplotlib.font_manager as fm\n",
        "\n",
        "mpl.rcParams['axes.unicode_minus'] = False # 마이너스 폰트 깨짐 방지"
      ],
      "execution_count": 2,
      "outputs": []
    },
    {
      "cell_type": "code",
      "metadata": {
        "id": "Ax5LjLd9d-_F",
        "colab_type": "code",
        "colab": {
          "base_uri": "https://localhost:8080/",
          "height": 111
        },
        "outputId": "003c8f59-0fdb-48af-a30c-00af8b06b3e0"
      },
      "source": [
        "import numpy as np\n",
        "\n",
        "data = np.random.randint(-100, 100, 50).cumsum()\n",
        "data"
      ],
      "execution_count": 3,
      "outputs": [
        {
          "output_type": "execute_result",
          "data": {
            "text/plain": [
              "array([  74,   86,   18,   29,  -54, -125, -162, -118, -113,  -59,   11,\n",
              "         85,   76,   96,   24,   47,   58,   30,  -40,  -43, -124,  -88,\n",
              "        -65,  -84,  -67, -134, -221, -251, -183, -226, -139,  -82, -120,\n",
              "       -213, -173, -158,  -61, -115, -180, -117,  -52,   43,   73,   87,\n",
              "        181,  107,    8,   79,   17,  -45])"
            ]
          },
          "metadata": {
            "tags": []
          },
          "execution_count": 3
        }
      ]
    },
    {
      "cell_type": "code",
      "metadata": {
        "id": "bYO5g3Z4eQCX",
        "colab_type": "code",
        "colab": {
          "base_uri": "https://localhost:8080/",
          "height": 313
        },
        "outputId": "2657fc6b-b3e3-4108-8abf-1e46921fd23b"
      },
      "source": [
        "plt.plot(range(50), data, 'r')\n",
        "mpl.rcParams['axes.unicode_minus'] = False\n",
        "plt.title('시간별 가격 추이')\n",
        "plt.ylabel('주식 가격')\n",
        "plt.xlabel('시간(분)') #그래프 그리기"
      ],
      "execution_count": 4,
      "outputs": [
        {
          "output_type": "execute_result",
          "data": {
            "text/plain": [
              "Text(0.5, 0, '시간(분)')"
            ]
          },
          "metadata": {
            "tags": []
          },
          "execution_count": 4
        },
        {
          "output_type": "display_data",
          "data": {
            "image/png": "[encoded data removed]",
            "text/plain": [
              "<Figure size 432x288 with 1 Axes>"
            ]
          },
          "metadata": {
            "tags": [],
            "needs_background": "light"
          }
        }
      ]
    },
    {
      "cell_type": "code",
      "metadata": {
        "id": "kxpVoxI3ehs3",
        "colab_type": "code",
        "colab": {
          "base_uri": "https://localhost:8080/",
          "height": 92
        },
        "outputId": "e87a8023-2ef8-42c3-cd97-511389fc77ef"
      },
      "source": [
        "print ('버전: ', mpl.__version__)\n",
        "print ('설치 위치: ', mpl.__file__)\n",
        "print ('설정 위치: ', mpl.get_configdir())\n",
        "print ('캐시 위치: ', mpl.get_cachedir())"
      ],
      "execution_count": 5,
      "outputs": [
        {
          "output_type": "stream",
          "text": [
            "버전:  3.2.2\n",
            "설치 위치:  /usr/local/lib/python3.6/dist-packages/matplotlib/__init__.py\n",
            "설정 위치:  /root/.config/matplotlib\n",
            "캐시 위치:  /root/.cache/matplotlib\n"
          ],
          "name": "stdout"
        }
      ]
    },
    {
      "cell_type": "code",
      "metadata": {
        "id": "dTNJ44ayfE1h",
        "colab_type": "code",
        "colab": {
          "base_uri": "https://localhost:8080/",
          "height": 36
        },
        "outputId": "330d454d-59cf-4dae-aa6b-efe1a1630a2a"
      },
      "source": [
        "print('설정파일 위치: ', mpl.matplotlib_fname()) #설정파일 위치 찾기"
      ],
      "execution_count": 6,
      "outputs": [
        {
          "output_type": "stream",
          "text": [
            "설정파일 위치:  /usr/local/lib/python3.6/dist-packages/matplotlib/mpl-data/matplotlibrc\n"
          ],
          "name": "stdout"
        }
      ]
    },
    {
      "cell_type": "code",
      "metadata": {
        "id": "8AFt4d7pfJsX",
        "colab_type": "code",
        "colab": {
          "base_uri": "https://localhost:8080/",
          "height": 36
        },
        "outputId": "d9c0c313-54ff-4260-e79d-e4ae1e6989bd"
      },
      "source": [
        "font_list = fm.findSystemFonts(fontpaths=None, fontext='ttf')\n",
        "\n",
        "print(len(font_list)) # ttf폰트 개수"
      ],
      "execution_count": 7,
      "outputs": [
        {
          "output_type": "stream",
          "text": [
            "27\n"
          ],
          "name": "stdout"
        }
      ]
    },
    {
      "cell_type": "code",
      "metadata": {
        "id": "ebicwgk8fc1F",
        "colab_type": "code",
        "colab": {
          "base_uri": "https://localhost:8080/",
          "height": 204
        },
        "outputId": "96014084-1e92-4b28-eea0-6b74e311104d"
      },
      "source": [
        "font_list[:10] #상위 10개 출력"
      ],
      "execution_count": 8,
      "outputs": [
        {
          "output_type": "execute_result",
          "data": {
            "text/plain": [
              "['/usr/share/fonts/truetype/liberation/LiberationMono-Italic.ttf',\n",
              " '/usr/share/fonts/truetype/liberation/LiberationSans-Italic.ttf',\n",
              " '/usr/share/fonts/truetype/nanum/NanumGothicBold.ttf',\n",
              " '/usr/share/fonts/truetype/nanum/NanumSquareB.ttf',\n",
              " '/usr/share/fonts/truetype/nanum/NanumGothic.ttf',\n",
              " '/usr/share/fonts/truetype/liberation/LiberationSerif-Bold.ttf',\n",
              " '/usr/share/fonts/truetype/liberation/LiberationSerif-BoldItalic.ttf',\n",
              " '/usr/share/fonts/truetype/nanum/NanumBarunGothic.ttf',\n",
              " '/usr/share/fonts/truetype/liberation/LiberationSansNarrow-BoldItalic.ttf',\n",
              " '/usr/share/fonts/truetype/nanum/NanumBarunGothicBold.ttf']"
            ]
          },
          "metadata": {
            "tags": []
          },
          "execution_count": 8
        }
      ]
    },
    {
      "cell_type": "code",
      "metadata": {
        "id": "imQ4d1HIfhOk",
        "colab_type": "code",
        "colab": {
          "base_uri": "https://localhost:8080/",
          "height": 223
        },
        "outputId": "592c8a27-cdfa-496c-a6c6-ab64cd9334e1"
      },
      "source": [
        "f = [f.name for f in fm.fontManager.ttflist]\n",
        "print(len(font_list))\n",
        "f[:10] # 10개의 폰트명만 출력"
      ],
      "execution_count": 9,
      "outputs": [
        {
          "output_type": "stream",
          "text": [
            "27\n"
          ],
          "name": "stdout"
        },
        {
          "output_type": "execute_result",
          "data": {
            "text/plain": [
              "['cmmi10',\n",
              " 'cmr10',\n",
              " 'STIXSizeOneSym',\n",
              " 'STIXGeneral',\n",
              " 'cmex10',\n",
              " 'STIXSizeFourSym',\n",
              " 'DejaVu Sans Mono',\n",
              " 'cmss10',\n",
              " 'DejaVu Sans',\n",
              " 'STIXNonUnicode']"
            ]
          },
          "metadata": {
            "tags": []
          },
          "execution_count": 9
        }
      ]
    },
    {
      "cell_type": "code",
      "metadata": {
        "id": "on0D-uByfqHu",
        "colab_type": "code",
        "colab": {
          "base_uri": "https://localhost:8080/",
          "height": 1000
        },
        "outputId": "dd64c85a-37f4-4dba-8b0c-e5b52ab6c90e"
      },
      "source": [
        "[f.name for f in fm.fontManager.ttflist if '' in f.name]"
      ],
      "execution_count": 10,
      "outputs": [
        {
          "output_type": "execute_result",
          "data": {
            "text/plain": [
              "['cmmi10',\n",
              " 'cmr10',\n",
              " 'STIXSizeOneSym',\n",
              " 'STIXGeneral',\n",
              " 'cmex10',\n",
              " 'STIXSizeFourSym',\n",
              " 'DejaVu Sans Mono',\n",
              " 'cmss10',\n",
              " 'DejaVu Sans',\n",
              " 'STIXNonUnicode',\n",
              " 'STIXGeneral',\n",
              " 'DejaVu Sans Mono',\n",
              " 'STIXSizeFourSym',\n",
              " 'STIXNonUnicode',\n",
              " 'DejaVu Sans Display',\n",
              " 'STIXGeneral',\n",
              " 'DejaVu Sans',\n",
              " 'STIXGeneral',\n",
              " 'STIXSizeTwoSym',\n",
              " 'DejaVu Serif',\n",
              " 'DejaVu Sans Mono',\n",
              " 'STIXNonUnicode',\n",
              " 'STIXSizeOneSym',\n",
              " 'cmtt10',\n",
              " 'STIXNonUnicode',\n",
              " 'STIXSizeTwoSym',\n",
              " 'STIXSizeFiveSym',\n",
              " 'DejaVu Serif',\n",
              " 'DejaVu Serif',\n",
              " 'DejaVu Serif',\n",
              " 'cmb10',\n",
              " 'DejaVu Sans Mono',\n",
              " 'DejaVu Sans',\n",
              " 'STIXSizeThreeSym',\n",
              " 'DejaVu Serif Display',\n",
              " 'DejaVu Sans',\n",
              " 'cmsy10',\n",
              " 'STIXSizeThreeSym',\n",
              " 'Liberation Mono',\n",
              " 'Liberation Sans',\n",
              " 'NanumGothic',\n",
              " 'NanumSquare',\n",
              " 'NanumGothic',\n",
              " 'Liberation Serif',\n",
              " 'Liberation Serif',\n",
              " 'NanumBarunGothic',\n",
              " 'Liberation Sans Narrow',\n",
              " 'NanumBarunGothic',\n",
              " 'NanumMyeongjo',\n",
              " 'NanumSquare',\n",
              " 'Liberation Mono',\n",
              " 'Liberation Mono',\n",
              " 'Liberation Serif',\n",
              " 'Liberation Serif',\n",
              " 'Liberation Sans Narrow',\n",
              " 'Liberation Sans',\n",
              " 'Liberation Sans',\n",
              " 'Liberation Sans Narrow',\n",
              " 'Liberation Mono',\n",
              " 'Liberation Sans Narrow',\n",
              " 'Liberation Sans',\n",
              " 'Humor Sans',\n",
              " 'NanumSquareRound',\n",
              " 'NanumSquareRound',\n",
              " 'NanumMyeongjo']"
            ]
          },
          "metadata": {
            "tags": []
          },
          "execution_count": 10
        }
      ]
    },
    {
      "cell_type": "code",
      "metadata": {
        "id": "jtiOtaxHf_Pj",
        "colab_type": "code",
        "colab": {
          "base_uri": "https://localhost:8080/",
          "height": 223
        },
        "outputId": "582b6cd3-0247-453b-e87c-c7bcefb39d98"
      },
      "source": [
        "[(f.name, f.fname) for f in fm.fontManager.ttflist if 'Nanum' in f.name] #나눔폰트만 출력"
      ],
      "execution_count": 11,
      "outputs": [
        {
          "output_type": "execute_result",
          "data": {
            "text/plain": [
              "[('NanumGothic', '/usr/share/fonts/truetype/nanum/NanumGothicBold.ttf'),\n",
              " ('NanumSquare', '/usr/share/fonts/truetype/nanum/NanumSquareB.ttf'),\n",
              " ('NanumGothic', '/usr/share/fonts/truetype/nanum/NanumGothic.ttf'),\n",
              " ('NanumBarunGothic', '/usr/share/fonts/truetype/nanum/NanumBarunGothic.ttf'),\n",
              " ('NanumBarunGothic',\n",
              "  '/usr/share/fonts/truetype/nanum/NanumBarunGothicBold.ttf'),\n",
              " ('NanumMyeongjo', '/usr/share/fonts/truetype/nanum/NanumMyeongjoBold.ttf'),\n",
              " ('NanumSquare', '/usr/share/fonts/truetype/nanum/NanumSquareR.ttf'),\n",
              " ('NanumSquareRound', '/usr/share/fonts/truetype/nanum/NanumSquareRoundB.ttf'),\n",
              " ('NanumSquareRound', '/usr/share/fonts/truetype/nanum/NanumSquareRoundR.ttf'),\n",
              " ('NanumMyeongjo', '/usr/share/fonts/truetype/nanum/NanumMyeongjo.ttf')]"
            ]
          },
          "metadata": {
            "tags": []
          },
          "execution_count": 11
        }
      ]
    },
    {
      "cell_type": "code",
      "metadata": {
        "id": "FAGFNFv3gN51",
        "colab_type": "code",
        "colab": {}
      },
      "source": [
        "#FontProperties 사용하는 방법"
      ],
      "execution_count": 12,
      "outputs": []
    },
    {
      "cell_type": "code",
      "metadata": {
        "id": "pVKebFTPgcIi",
        "colab_type": "code",
        "colab": {
          "base_uri": "https://localhost:8080/",
          "height": 308
        },
        "outputId": "83958ee7-ae0f-41d2-a912-075a8e56d0f6"
      },
      "source": [
        "path = '/usr/share/fonts/truetype/nanum/NanumSquareB.ttf'\n",
        "fontprop = fm.FontProperties(fname=path, size=18)\n",
        "\n",
        "plt.plot(range(50), data, 'r')\n",
        "plt.title('시간별 가격 추이', fontproperties=fontprop)\n",
        "plt.ylabel('주식 가격', fontproperties=fontprop)\n",
        "plt.xlabel('시간(분)', fontproperties=fontprop)\n",
        "plt.show() #fontprop title, ylabel, xlabel에 다 적용"
      ],
      "execution_count": 13,
      "outputs": [
        {
          "output_type": "display_data",
          "data": {
            "image/png": "[encoded data removed]",
            "text/plain": [
              "<Figure size 432x288 with 1 Axes>"
            ]
          },
          "metadata": {
            "tags": [],
            "needs_background": "light"
          }
        }
      ]
    },
    {
      "cell_type": "code",
      "metadata": {
        "id": "UkcfGu7Vg5Y4",
        "colab_type": "code",
        "colab": {}
      },
      "source": [
        "#matplotlib.rcParams로 전역글꼴 설정 방법"
      ],
      "execution_count": 14,
      "outputs": []
    },
    {
      "cell_type": "code",
      "metadata": {
        "id": "5NaxlDfahIZ8",
        "colab_type": "code",
        "colab": {
          "base_uri": "https://localhost:8080/",
          "height": 92
        },
        "outputId": "43bfdde6-3200-4f33-e47b-33664121dfd5"
      },
      "source": [
        "import matplotlib.pyplot as plt\n",
        "\n",
        "print('# 설정 되어있는 폰트 사이즈')\n",
        "print (plt.rcParams['font.size'] )\n",
        "print('#설정 되어있는 폰트 글꼴')\n",
        "print (plt.rcParams['font.family'] ) # 노트북에 디폴트되어있는 것"
      ],
      "execution_count": 15,
      "outputs": [
        {
          "output_type": "stream",
          "text": [
            "# 설정 되어있는 폰트 사이즈\n",
            "10.0\n",
            "#설정 되어있는 폰트 글꼴\n",
            "['NanumBarunGothic']\n"
          ],
          "name": "stdout"
        }
      ]
    },
    {
      "cell_type": "code",
      "metadata": {
        "id": "-F4iHKgHhitO",
        "colab_type": "code",
        "colab": {
          "base_uri": "https://localhost:8080/",
          "height": 149
        },
        "outputId": "5fbc9c41-c487-4eff-c110-b8abbfced83d"
      },
      "source": [
        "print('serif 세리프가 있는 폰트 --------')\n",
        "print (plt.rcParams['font.serif'])\n",
        "print('sans-serif 세리프가 없는 폰트 ---------')\n",
        "print (plt.rcParams['font.sans-serif'])\n",
        "print('monospace 고정폭 글꼴 ---------')\n",
        "print (plt.rcParams['font.monospace'])"
      ],
      "execution_count": 16,
      "outputs": [
        {
          "output_type": "stream",
          "text": [
            "serif 세리프가 있는 폰트 --------\n",
            "['DejaVu Serif', 'Bitstream Vera Serif', 'Computer Modern Roman', 'New Century Schoolbook', 'Century Schoolbook L', 'Utopia', 'ITC Bookman', 'Bookman', 'Nimbus Roman No9 L', 'Times New Roman', 'Times', 'Palatino', 'Charter', 'serif']\n",
            "sans-serif 세리프가 없는 폰트 ---------\n",
            "['DejaVu Sans', 'Bitstream Vera Sans', 'Computer Modern Sans Serif', 'Lucida Grande', 'Verdana', 'Geneva', 'Lucid', 'Arial', 'Helvetica', 'Avant Garde', 'sans-serif']\n",
            "monospace 고정폭 글꼴 ---------\n",
            "['DejaVu Sans Mono', 'Bitstream Vera Sans Mono', 'Computer Modern Typewriter', 'Andale Mono', 'Nimbus Mono L', 'Courier New', 'Courier', 'Fixed', 'Terminal', 'monospace']\n"
          ],
          "name": "stdout"
        }
      ]
    },
    {
      "cell_type": "code",
      "metadata": {
        "id": "Yw9RLsMkhzF-",
        "colab_type": "code",
        "colab": {}
      },
      "source": [
        "plt.rcParams[\"font.family\"] = 'NanumGothic' # 나눔고딕으로 설정\n",
        "plt.rcParams[\"font.size\"] = 20\n",
        "plt.rcParams[\"figure.figsize\"] = (14,4)"
      ],
      "execution_count": 17,
      "outputs": []
    },
    {
      "cell_type": "code",
      "metadata": {
        "id": "ao9f_5WNijwH",
        "colab_type": "code",
        "colab": {
          "base_uri": "https://localhost:8080/",
          "height": 323
        },
        "outputId": "69346224-c491-490e-c59f-b893bde87bf8"
      },
      "source": [
        "plt.plot(range(50), data, 'r')\n",
        "plt.title('시간별 가격 추이')\n",
        "plt.ylabel('주식 가격')\n",
        "plt.xlabel('시간(분)')\n",
        "plt.style.use('seaborn-pastel')\n",
        "plt.show() #fontProperties로 각각 지정해주지 않아도 됨. 대신 rcParams로 설정"
      ],
      "execution_count": 18,
      "outputs": [
        {
          "output_type": "display_data",
          "data": {
            "image/png": "[encoded data removed]",
            "text/plain": [
              "<Figure size 1008x288 with 1 Axes>"
            ]
          },
          "metadata": {
            "tags": [],
            "needs_background": "light"
          }
        }
      ]
    },
    {
      "cell_type": "code",
      "metadata": {
        "id": "ikQrTeyVisEu",
        "colab_type": "code",
        "colab": {}
      },
      "source": [
        "# rcParams 대신 FontProperties 와 plt.rc를 사용하는 방법"
      ],
      "execution_count": 19,
      "outputs": []
    },
    {
      "cell_type": "code",
      "metadata": {
        "id": "5LvkjMnQjJgW",
        "colab_type": "code",
        "colab": {
          "base_uri": "https://localhost:8080/",
          "height": 347
        },
        "outputId": "bd7e2c16-a816-4ce2-c0bf-c7a8b4b8fbe7"
      },
      "source": [
        "path ='/usr/share/fonts/truetype/nanum/NanumMyeongjoBold.ttf'\n",
        "font_name = fm.FontProperties(fname=path, size=50).get_name() #서체 이름 가져오기\n",
        "print(font_name)\n",
        "plt.rc('font', family=font_name) #서체를 family에 적용\n",
        "\n",
        "fig, ax = plt.subplots()\n",
        "ax.plot(data)\n",
        "ax.set_title('시간별 가격 추이')\n",
        "plt.ylabel('주식 가격')\n",
        "plt.xlabel('시간(분)')\n",
        "plt.style.use('ggplot')\n",
        "plt.show()"
      ],
      "execution_count": 20,
      "outputs": [
        {
          "output_type": "stream",
          "text": [
            "NanumMyeongjo\n"
          ],
          "name": "stdout"
        },
        {
          "output_type": "display_data",
          "data": {
            "image/png": "[encoded data removed]",
            "text/plain": [
              "<Figure size 1008x288 with 1 Axes>"
            ]
          },
          "metadata": {
            "tags": [],
            "needs_background": "light"
          }
        }
      ]
    },
    {
      "cell_type": "code",
      "metadata": {
        "id": "tMk8TkftjT8o",
        "colab_type": "code",
        "colab": {}
      },
      "source": [
        "#rcParams를 설정파일에 직접 적어주는 방법"
      ],
      "execution_count": 21,
      "outputs": []
    },
    {
      "cell_type": "code",
      "metadata": {
        "id": "bJnIS-gij54L",
        "colab_type": "code",
        "colab": {
          "base_uri": "https://localhost:8080/",
          "height": 36
        },
        "outputId": "a1449ec8-d840-42e5-93f2-c9f61f303063"
      },
      "source": [
        "print ('설정파일 위치: ', mpl.matplotlib_fname())"
      ],
      "execution_count": 22,
      "outputs": [
        {
          "output_type": "stream",
          "text": [
            "설정파일 위치:  /usr/local/lib/python3.6/dist-packages/matplotlib/mpl-data/matplotlibrc\n"
          ],
          "name": "stdout"
        }
      ]
    },
    {
      "cell_type": "code",
      "metadata": {
        "id": "IgrLHGqWkHA7",
        "colab_type": "code",
        "colab": {
          "base_uri": "https://localhost:8080/",
          "height": 283
        },
        "outputId": "47cb18cc-db55-46bc-f59a-c45cba23d13f"
      },
      "source": [
        "# import matplotlib.pyplot as plt\n",
        "# import numpy as np\n",
        "\n",
        "fig, ax = plt.subplots()\n",
        "ax.plot(10*np.random.randn(100), 10*np.random.randn(100), 'o')\n",
        "ax.set_title('숫자 분포도 보기')\n",
        "plt.show()"
      ],
      "execution_count": 23,
      "outputs": [
        {
          "output_type": "display_data",
          "data": {
            "image/png": "[encoded data removed]",
            "text/plain": [
              "<Figure size 1008x288 with 1 Axes>"
            ]
          },
          "metadata": {
            "tags": []
          }
        }
      ]
    },
    {
      "cell_type": "code",
      "metadata": {
        "id": "PznnJ0B74dCp",
        "colab_type": "code",
        "colab": {}
      },
      "source": [
        ""
      ],
      "execution_count": 23,
      "outputs": []
    }
  ]
}